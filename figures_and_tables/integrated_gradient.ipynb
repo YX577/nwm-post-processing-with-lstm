{
 "cells": [
  {
   "cell_type": "code",
   "execution_count": 1,
   "metadata": {},
   "outputs": [],
   "source": [
    "# Imports\n",
    "import json\n",
    "import numpy as np\n",
    "import pandas as pd\n",
    "import pickle as pkl\n",
    "import datetime as dt\n",
    "import random\n",
    "import sys\n",
    "import os.path\n",
    "from os import path\n",
    "import torch\n",
    "from torch.utils.data import DataLoader\n",
    "from pathlib import Path\n",
    "#plotting\n",
    "import matplotlib.pyplot as plt\n",
    "import matplotlib.dates as mdates\n",
    "import matplotlib as mpl\n",
    "from mpl_toolkits.axes_grid1 import make_axes_locatable\n",
    "import pylab\n",
    "from pylab import cm\n",
    "from matplotlib import colors as mcol\n",
    "\n",
    "# For the regression.\n",
    "import scipy\n",
    "from scipy import stats\n",
    "from sklearn.model_selection import KFold\n",
    "from sklearn.gaussian_process import GaussianProcessRegressor\n",
    "from sklearn.gaussian_process.kernels import Matern, WhiteKernel, RBF, ConstantKernel as C\n",
    "from sklearn.metrics import r2_score\n",
    "from netCDF4 import Dataset as NetCDFFile\n",
    "\n",
    "sys.path.insert(1, '/home/NearingLab/projects/jmframe/lstm_camels/tools/')\n",
    "import metrics\n",
    "import signatures\n",
    "from xarray.core.dataarray import DataArray"
   ]
  },
  {
   "cell_type": "code",
   "execution_count": 2,
   "metadata": {},
   "outputs": [],
   "source": [
    "# To make plots dynamic\n",
    "#%matplotlib notebook\n",
    "#%matplotlib notebook"
   ]
  },
  {
   "cell_type": "code",
   "execution_count": 3,
   "metadata": {},
   "outputs": [],
   "source": [
    "MAIN_DIR = \"/home/NearingLab/projects/jmframe/lstm_camels/\"\n",
    "ig_dir = MAIN_DIR+'igs/'\n",
    "IG_DIR = Path(ig_dir)\n",
    "# Path to the main data folder\n",
    "data_dir = MAIN_DIR+'data/'\n",
    "DATA_DIR = Path(data_dir)\n",
    "# Path to the main CAMELS folder\n",
    "CAMELS_DIR = MAIN_DIR\n",
    "# Path to the main directory of this repository\n",
    "BASE_CODE_DIR = MAIN_DIR + 'papercode/'\n",
    "# Needed if no precomputed results are used. Path to a single run\n",
    "BASE_RUN_DIR = MAIN_DIR+'runs/run_0806_123405_seed83357'\n",
    "# Convert to PosixPaths\n",
    "CAMELS_DIR = Path(CAMELS_DIR)\n",
    "BASE_RUN_DIR = Path(BASE_RUN_DIR)"
   ]
  },
  {
   "cell_type": "code",
   "execution_count": 4,
   "metadata": {},
   "outputs": [],
   "source": [
    "# Start and end date of the validation period\n",
    "VAL_START = pd.to_datetime('01101994', format='%d%m%Y')\n",
    "VAL_END = pd.to_datetime('30092003', format='%d%m%Y')\n",
    "date_range = pd.date_range(start=VAL_START, end=VAL_END)\n",
    "n_dates = date_range.shape[0]"
   ]
  },
  {
   "cell_type": "code",
   "execution_count": 5,
   "metadata": {},
   "outputs": [],
   "source": [
    "sys.path.append(MAIN_DIR)\n",
    "sys.path.append(BASE_CODE_DIR)\n",
    "from main_nwmlstm import Model\n",
    "from papercode.utils import get_basin_list\n",
    "from papercode.datautils import load_attributes"
   ]
  },
  {
   "cell_type": "code",
   "execution_count": 6,
   "metadata": {},
   "outputs": [
    {
     "name": "stdout",
     "output_type": "stream",
     "text": [
      "cpu\n"
     ]
    }
   ],
   "source": [
    "# Use GPU if available\n",
    "DEVICE = torch.device(\"cuda:0\" if torch.cuda.is_available() else \"cpu\") \n",
    "print(DEVICE)"
   ]
  },
  {
   "cell_type": "code",
   "execution_count": 7,
   "metadata": {},
   "outputs": [],
   "source": [
    "# get list of modeled basins\n",
    "basins = get_basin_list()\n",
    "basins_int=[]\n",
    "for b in basins:\n",
    "    basins_int.append(int(b))\n",
    "nbasins=len(basins)"
   ]
  },
  {
   "cell_type": "code",
   "execution_count": 8,
   "metadata": {},
   "outputs": [],
   "source": [
    "# load run config\n",
    "with open(BASE_RUN_DIR / \"cfg.json\", \"r\") as fp:\n",
    "    cfg = json.load(fp)\n",
    "# load means/stds from training period\n",
    "df_att = load_attributes(db_path=str(BASE_RUN_DIR / \"attributes.db\"), \n",
    "                             basins=basins,\n",
    "                             keep_features=cfg[\"camels_attr\"],\n",
    "                             drop_lat_lon=False)"
   ]
  },
  {
   "cell_type": "code",
   "execution_count": 10,
   "metadata": {},
   "outputs": [
    {
     "name": "stdout",
     "output_type": "stream",
     "text": [
      "initializing model ...\n",
      "finished initializing model\n",
      "loading model ...\n",
      "finished loading model\n"
     ]
    }
   ],
   "source": [
    "# Initialize new model\n",
    "print('initializing model ...')\n",
    "model = Model(input_size_dyn=51,\n",
    "              input_size_stat=0,\n",
    "              hidden_size=cfg[\"hidden_size\"],\n",
    "              dropout=cfg[\"dropout\"]).to(DEVICE)\n",
    "print('finished initializing model')\n",
    "\n",
    "# load pre-trained weights\n",
    "print('loading model ...')\n",
    "weight_file = BASE_RUN_DIR / \"model_epoch30.pt\"\n",
    "model.load_state_dict(torch.load(weight_file, map_location=DEVICE))\n",
    "print('finished loading model')"
   ]
  },
  {
   "cell_type": "code",
   "execution_count": 11,
   "metadata": {},
   "outputs": [
    {
     "name": "stdout",
     "output_type": "stream",
     "text": [
      "loading scaler ...\n",
      "finished loading scaler\n"
     ]
    }
   ],
   "source": [
    "# load scaler\n",
    "print('loading scaler ...')\n",
    "with open(CAMELS_DIR / \"hdf_files/scaler_nwm_v2.p\", 'rb') as f:\n",
    "    scaler = pkl.load(f)\n",
    "scaler[\"camels_attr_mean\"] = df_att.mean()\n",
    "scaler[\"camels_attr_std\"] = df_att.std()\n",
    "print('finished loading scaler')"
   ]
  },
  {
   "cell_type": "code",
   "execution_count": 12,
   "metadata": {},
   "outputs": [
    {
     "name": "stdout",
     "output_type": "stream",
     "text": [
      "['p_mean_dyn', 'pet_mean_dyn', 'aridity_dyn', 't_mean_dyn', 'frac_snow_dyn', 'high_prec_freq_dyn', 'high_prec_dur_dyn', 'low_prec_freq_dyn', 'low_prec_dur_dyn', 'PET(mm/d)', 'streamflow', 'q_lateral', 'velocity', 'qSfcLatRunoff', 'qBucket', 'qBtmVertRunoff', 'ACCET', 'FIRA', 'FSA', 'FSNO', 'HFX', 'LH', 'SNEQV', 'SNOWH', 'SOIL_M1', 'SOIL_M2', 'SOIL_M3', 'SOIL_M4', 'SOIL_W1', 'SOIL_W2', 'SOIL_W3', 'SOIL_W4', 'TRAD', 'UGDRNOFF', 'mean_sfcheadsubrt', 'mean_zwattablrt', 'max_sfcheadsubrt', 'max_zwattablrt']\n"
     ]
    }
   ],
   "source": [
    "# get additional static inputs\n",
    "file_name = Path(MAIN_DIR) / 'data' / 'dynamic_features_nwm_v2.p'\n",
    "with file_name.open(\"rb\") as fp:\n",
    "    additional_features = pkl.load(fp)\n",
    "additional_features_list = list(additional_features[basins[0]].columns.values)\n",
    "print(additional_features_list)"
   ]
  },
  {
   "cell_type": "code",
   "execution_count": 13,
   "metadata": {},
   "outputs": [],
   "source": [
    "camels_attr = ['elev_mean', 'slope_mean', 'area_gages2', 'frac_forest',\n",
    "             'lai_max', 'lai_diff', 'gvf_max', 'gvf_diff',\n",
    "             'soil_depth_pelletier', 'soil_depth_statsgo', 'soil_porosity', 'soil_conductivity',\n",
    "             'max_water_content', 'sand_frac', 'silt_frac', 'clay_frac',\n",
    "             'carbonate_rocks_frac', 'geol_permeability']\n",
    "dynamic_inputs_orig = ['PRCP(mm/day)','Tmax', 'Tmim','SRAD', 'Vp']"
   ]
  },
  {
   "cell_type": "code",
   "execution_count": 14,
   "metadata": {},
   "outputs": [],
   "source": [
    "pd_date_range = pd.date_range(VAL_START, VAL_END)\n",
    "n_times = pd_date_range.shape[0]"
   ]
  },
  {
   "cell_type": "code",
   "execution_count": 15,
   "metadata": {},
   "outputs": [],
   "source": [
    "# the features of the model are some attributes, meteorlogical inputes and NWM CHRT+LDAS\n",
    "nwm_features = additional_features_list[10:]\n",
    "model_features= dynamic_inputs_orig + nwm_features + camels_attr\n",
    "feature_source = ['atm'] * len(dynamic_inputs_orig) + \\\n",
    "                 ['nwm'] * len(additional_features_list[10:]) + \\\n",
    "                 ['cam'] * len(camels_attr)\n",
    "plt_labels_all = [feature_source[i]+'_'+model_features[i] for i in range(len(model_features))]"
   ]
  },
  {
   "cell_type": "code",
   "execution_count": 17,
   "metadata": {},
   "outputs": [
    {
     "data": {
      "text/plain": [
       "['PRCP(mm/day)',\n",
       " 'Tmax',\n",
       " 'Tmim',\n",
       " 'SRAD',\n",
       " 'Vp',\n",
       " 'streamflow',\n",
       " 'q_lateral',\n",
       " 'velocity',\n",
       " 'qSfcLatRunoff',\n",
       " 'qBucket',\n",
       " 'qBtmVertRunoff',\n",
       " 'ACCET',\n",
       " 'FIRA',\n",
       " 'FSA',\n",
       " 'FSNO',\n",
       " 'HFX',\n",
       " 'LH',\n",
       " 'SNEQV',\n",
       " 'SNOWH',\n",
       " 'SOIL_M1',\n",
       " 'SOIL_M2',\n",
       " 'SOIL_M3',\n",
       " 'SOIL_M4',\n",
       " 'SOIL_W1',\n",
       " 'SOIL_W2',\n",
       " 'SOIL_W3',\n",
       " 'SOIL_W4',\n",
       " 'TRAD',\n",
       " 'UGDRNOFF',\n",
       " 'mean_sfcheadsubrt',\n",
       " 'mean_zwattablrt',\n",
       " 'max_sfcheadsubrt',\n",
       " 'max_zwattablrt']"
      ]
     },
     "execution_count": 17,
     "metadata": {},
     "output_type": "execute_result"
    }
   ],
   "source": [
    "model_features[0:33]"
   ]
  },
  {
   "cell_type": "code",
   "execution_count": 18,
   "metadata": {},
   "outputs": [],
   "source": [
    "# The integrated gradients are in a np.arrat with dimensions\n",
    "# 1: prediction dates\n",
    "# 2: lagging time before prediction\n",
    "# 3: model features"
   ]
  },
  {
   "cell_type": "code",
   "execution_count": 19,
   "metadata": {},
   "outputs": [],
   "source": [
    "calculate_sums = False\n",
    "dump_sums = False\n",
    "if calculate_sums:\n",
    "    random_basins = basins\n",
    "    random.shuffle(random_basins)\n",
    "    numb = 0\n",
    "    for b in random_basins:\n",
    "\n",
    "        # Check that the IGs have been calculated.\n",
    "        fname = MAIN_DIR+'igs/'+b+'_precip.p'\n",
    "        if not path.exists(fname):\n",
    "            continue\n",
    "\n",
    "        # Count the number of basins processed\n",
    "        numb+=1\n",
    "\n",
    "        # Open the integrated gradients data\n",
    "        with open(fname,'rb') as f:\n",
    "            basin_igs = pkl.load(f)\n",
    "\n",
    "        # Calculate the sums\n",
    "        # Sum across time\n",
    "        ig_sum_time = np.sum(np.absolute(basin_igs), axis=0)\n",
    "        # Sum across lookback\n",
    "        ig_sum_lookback = np.sum(np.absolute(basin_igs), axis=1)\n",
    "        # Sum across lookback, then time\n",
    "        ig_sum_lookback_time = np.sum(np.sum(np.absolute(basin_igs), axis=1), axis=0)\n",
    "        # Sum across lookback, then features\n",
    "        ig_sum_lookback_feature = np.sum(np.sum(np.absolute(basin_igs), axis=1), axis=1)\n",
    "\n",
    "        if numb == 1:\n",
    "            all_ig_sum_lookback_time = ig_sum_lookback_time\n",
    "            all_ig_sum_lookback_feature = ig_sum_lookback_feature\n",
    "        else:\n",
    "            all_ig_sum_lookback_time = np.append(all_ig_sum_lookback_time, ig_sum_lookback_time, axis=0)\n",
    "            all_ig_sum_lookback_feature = np.append(all_ig_sum_lookback_feature, ig_sum_lookback_feature, axis=0)\n",
    "\n",
    "    # Reshape numpy to have all the columns line up\n",
    "    all_ig_sum_lookback_time_reshaped = all_ig_sum_lookback_time.reshape(numb, basin_igs.shape[2])\n",
    "    all_ig_sum_lookback_feature_reshaped = all_ig_sum_lookback_feature.reshape(numb, basin_igs.shape[0])\n",
    "    \n",
    "    if dump_sums:\n",
    "        # Save values to pickle file\n",
    "        with open(MAIN_DIR+'igs/sum_all_ig_lookback_time.p','wb') as f:\n",
    "            pkl.dump(all_ig_sum_lookback_time_reshaped, f)\n",
    "        with open(MAIN_DIR+'igs/sum_all_ig_lookback_feature.p','wb') as f:\n",
    "            pkl.dump(all_ig_sum_lookback_feature_reshaped, f)\n",
    "else:\n",
    "    # Open pickle file with values\n",
    "    with open(MAIN_DIR+'igs/sum_all_ig_lookback_time.p','rb') as f:\n",
    "        all_ig_sum_lookback_time_reshaped = pkl.load(f)\n",
    "    # Open pickle file with values\n",
    "    with open(MAIN_DIR+'igs/sum_all_ig_lookback_feature.p','rb') as f:\n",
    "        all_ig_sum_lookback_feature_reshaped = pkl.load(f)"
   ]
  },
  {
   "cell_type": "code",
   "execution_count": 20,
   "metadata": {},
   "outputs": [
    {
     "name": "stdout",
     "output_type": "stream",
     "text": [
      "(531, 51)\n",
      "(531, 3287)\n"
     ]
    }
   ],
   "source": [
    "print(all_ig_sum_lookback_time_reshaped.shape)\n",
    "print(all_ig_sum_lookback_feature_reshaped.shape)"
   ]
  },
  {
   "cell_type": "code",
   "execution_count": 21,
   "metadata": {
    "scrolled": false
   },
   "outputs": [],
   "source": [
    "# Now get the sums\n",
    "sum_all_ig_pred_t = np.sum(np.absolute(all_ig_sum_lookback_time_reshaped), axis=0)"
   ]
  },
  {
   "cell_type": "code",
   "execution_count": 25,
   "metadata": {},
   "outputs": [],
   "source": [
    "# Set up a sorted data frame\n",
    "n_features = 33\n",
    "d={'ig_pred_t':sum_all_ig_pred_t[0:n_features], \n",
    "   'model_features':model_features[0:n_features], \n",
    "   'feature_source':feature_source[0:n_features]}\n",
    "df = pd.DataFrame(d)\n",
    "df.set_index('model_features')\n",
    "df = df.sort_values('ig_pred_t')"
   ]
  },
  {
   "cell_type": "code",
   "execution_count": 26,
   "metadata": {},
   "outputs": [],
   "source": [
    "for imf, mf in enumerate(df.model_features):\n",
    "#     if mf == 'qSfcLatRunoff':\n",
    "#         df.iloc[imf,1] = 'qLateral'\n",
    "#     if mf == 'qBtmVertRunoff':\n",
    "#         df.iloc[imf,1] = 'qBottom'\n",
    "    if mf == 'PRCP(mm/day)':\n",
    "        df.iloc[imf,1] = 'PRCP'\n",
    "    if mf == 'max_':\n",
    "        df.iloc[imf,1] = 'max ponding'\n",
    "    if mf == 'mean_':\n",
    "        df.iloc[imf,1] = 'mean ponding'\n",
    "    if mf == 'max_':\n",
    "        df.iloc[imf,1] = 'max gw depth'\n",
    "    if mf == 'mean_':\n",
    "        df.iloc[imf,1] = 'mean gw depth'"
   ]
  },
  {
   "cell_type": "code",
   "execution_count": 27,
   "metadata": {},
   "outputs": [
    {
     "name": "stderr",
     "output_type": "stream",
     "text": [
      "/home/jmframe/programs/anaconda3/lib/python3.7/site-packages/pandas/plotting/_matplotlib/core.py:575: UserWarning: The handle <BarContainer object of 33 artists> has a label of '_nolegend_' which cannot be automatically added to the legend.\n",
      "  ax.legend(handles, labels, loc=\"best\", title=title)\n"
     ]
    },
    {
     "data": {
      "image/png": "[encoded data removed]",
      "text/plain": [
       "<Figure size 468x289.44 with 1 Axes>"
      ]
     },
     "metadata": {
      "needs_background": "light"
     },
     "output_type": "display_data"
    }
   ],
   "source": [
    "# get the colors based on the feature source\n",
    "# grab colors for manual plotting\n",
    "prop_cycle = plt.rcParams['axes.prop_cycle']\n",
    "colors = prop_cycle.by_key()['color']\n",
    "colorz=[]\n",
    "for cfs in df.feature_source:\n",
    "    if cfs == 'atm':\n",
    "        colorz.append(colors[1])\n",
    "    if cfs == 'nwm':\n",
    "        colorz.append(colors[0])\n",
    "    if cfs == 'cam':\n",
    "        colorz.append(colors[1])\n",
    "\n",
    "# Make a good looking plot\n",
    "mpl.rcParams.update({'font.size': 9})\n",
    "fig, ax = plt.subplots(figsize=(6.5,4.02))\n",
    "df.plot(kind='bar', x='model_features', y='ig_pred_t', ax=ax, \\\n",
    "        color=colorz, label='_nolegend_')\n",
    "plt.ylabel('Relative integrated gradient')\n",
    "plt.xlabel('')\n",
    "ax.grid(b=None, which='major', axis='y')\n",
    "ax.set_yticklabels([])\n",
    "ax.tick_params(direction='in', length=0, width=0, colors='k',\n",
    "              grid_color='k', grid_alpha=0.5)\n",
    "\n",
    "labelz = ['Meteorological Forcings', 'NWM States & Fluxes']\n",
    "colorz = [colors[1],colors[0]]\n",
    "for ilab, icol in zip(labelz,colorz):\n",
    "    #Plot invisible bar graph but have the legends specified\n",
    "    ax.bar(model_features, sum_all_ig_pred_t,width=0,color=icol,label=ilab)\n",
    "ax.legend(loc='upper left')\n",
    "#plt.title('Input attributions for LSTM+NWM post processor predictions')\n",
    "plt.tight_layout()\n",
    "#plt.savefig(MAIN_DIR+'igs_plots/igs_bar_all.png')\n",
    "plt.show()\n",
    "plt.close()"
   ]
  },
  {
   "cell_type": "code",
   "execution_count": null,
   "metadata": {},
   "outputs": [],
   "source": []
  },
  {
   "cell_type": "code",
   "execution_count": null,
   "metadata": {},
   "outputs": [],
   "source": []
  }
 ],
 "metadata": {
  "kernelspec": {
   "display_name": "Python 3",
   "language": "python",
   "name": "python3"
  },
  "language_info": {
   "codemirror_mode": {
    "name": "ipython",
    "version": 3
   },
   "file_extension": ".py",
   "mimetype": "text/x-python",
   "name": "python",
   "nbconvert_exporter": "python",
   "pygments_lexer": "ipython3",
   "version": "3.7.6"
  }
 },
 "nbformat": 4,
 "nbformat_minor": 4
}
